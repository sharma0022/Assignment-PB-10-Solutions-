{
 "cells": [
  {
   "cell_type": "markdown",
   "id": "c64e923e",
   "metadata": {},
   "source": [
    "# Assignment 10 Solution"
   ]
  },
  {
   "cell_type": "raw",
   "id": "5bd12e77",
   "metadata": {},
   "source": [
    "Q.1. How do you distinguish between shutil.copy() and shutil.copytree()?\n",
    "\n",
    "Ans: 'shutil.copy()' is used to copy a single file, while shutil.copytree() is used to copy an        entire directory and its contents.\n",
    "     'shutil.copy()' takes two arguments: the source file path and the destination file path,          while 'shutil.copytree()' takes two arguments: the source directory path and the destination      directory path.\n",
    "     'shutil.copy()' will raise an error if the destination path already exists and is a              directory, while 'shutil.copytree()' will create the destination directory if it does not        exist, and will recursively copy the contents of the source directory to the destination          directory."
   ]
  },
  {
   "cell_type": "raw",
   "id": "be9137c2",
   "metadata": {},
   "source": [
    "Q.2. What function is used to rename files??\n",
    "\n",
    "Ans: The 'shutil.move()' function is used to rename files in python. It can also be used to move      files from one location to another. The 'shutil.move()' function takes two arguments: the        source file or directory path, and the destination path. If the destination path is a            directory or does not exist, the source file or directory will be renamed to the destination      filename. If the destination path already exists, the file or directory at that path will be      replaced with the source file or directory.\n",
    "\n"
   ]
  },
  {
   "cell_type": "raw",
   "id": "74d97564",
   "metadata": {},
   "source": [
    "Q.3. What is the difference between the delete functions in the send2trash and shutil modules?\n",
    "\n",
    "Ans: The 'send2trash()' function from the 'send2trash module', and the 'rmtree()' function from        the shutil module are both used to delete files and directories, but they work differently.\n",
    "\n",
    "    'send2trash()' function is used to move the file or folder to trash or recycle bin instead of     permanently deleting it, allowing the user to recover the deleted files if needed. It is a       safer option as it does not permanently delete the file, and it can be easily recovered.\n",
    "\n",
    "    On the other hand, 'shutil.rmtree()' function is used to delete a directory and all its           contents recursively. This function permanently deletes the directory and its contents, so it     cannot be recovered. It should be used with caution.\n",
    "\n",
    "   'shutil.rmtree()' is useful when you are sure that you want to delete a directory and all of      its contents, while 'send2trash()' is a safer option when you want to delete a file or            directory but still want to keep a copy of it, in case you need to recover it later."
   ]
  },
  {
   "cell_type": "raw",
   "id": "ff5b756d",
   "metadata": {},
   "source": [
    "Q.4. ZipFile objects have a close() method just like File objects’ close() method. What ZipFile        method is equivalent to File objects’ open() method?\n",
    "\n",
    "Ans: The equivalent method for the open() method for File objects in the zipfile module is the        ZipFile() constructor. It is used to open a new zip file for reading or writing. For              example, zipfile.ZipFile('example.zip', 'r') would open the file 'example.zip' for reading,      and zipfile.ZipFile('example.zip', 'w') would open the file 'example.zip' for writing. "
   ]
  },
  {
   "cell_type": "raw",
   "id": "c0a29b6f",
   "metadata": {},
   "source": [
    "Q.5. Create a programme that searches a folder tree for files with a certain file extension (such      as .pdf or .jpg). Copy these files from whatever location they are in to a new folder.\n"
   ]
  },
  {
   "cell_type": "code",
   "execution_count": 4,
   "id": "e77d55a3",
   "metadata": {},
   "outputs": [],
   "source": [
    "import os\n",
    "import shutil\n",
    "\n",
    "# specify the extension of the files to search for\n",
    "extension = \".pdf\"\n",
    "\n",
    "# specify the directory to search in\n",
    "root_dir = \"/path/to/root/directory\"\n",
    "\n",
    "# specify the directory to copy the files to\n",
    "destination_dir = \"/path/to/destination/directory\"\n",
    "\n",
    "# search for files with the specified extension\n",
    "for subdir, dirs, files in os.walk(root_dir):\n",
    "    for file in files:\n",
    "        if file.endswith(extension):\n",
    "            source_file = os.path.join(subdir, file)\n",
    "            destination_file = os.path.join(destination_dir, file)\n",
    "            shutil.copy2(source_file, destination_file)\n"
   ]
  },
  {
   "cell_type": "raw",
   "id": "90f0ef09",
   "metadata": {},
   "source": [
    "This script uses the os.walk() function to traverse the folder tree, and the shutil.copy2() function to copy the files to the destination directory.\n",
    "Make sure give permission to copy the files and the destination folder exists before running the script."
   ]
  },
  {
   "cell_type": "code",
   "execution_count": null,
   "id": "35408d76",
   "metadata": {},
   "outputs": [],
   "source": []
  }
 ],
 "metadata": {
  "kernelspec": {
   "display_name": "Python 3 (ipykernel)",
   "language": "python",
   "name": "python3"
  },
  "language_info": {
   "codemirror_mode": {
    "name": "ipython",
    "version": 3
   },
   "file_extension": ".py",
   "mimetype": "text/x-python",
   "name": "python",
   "nbconvert_exporter": "python",
   "pygments_lexer": "ipython3",
   "version": "3.9.12"
  }
 },
 "nbformat": 4,
 "nbformat_minor": 5
}
